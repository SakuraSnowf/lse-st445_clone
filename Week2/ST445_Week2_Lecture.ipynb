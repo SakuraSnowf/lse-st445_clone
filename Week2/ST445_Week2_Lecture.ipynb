{
 "cells": [
  {
   "cell_type": "markdown",
   "metadata": {
    "slideshow": {
     "slide_type": "slide"
    }
   },
   "source": [
    "### ST445 Managing and Visualizing Data\n",
    "\n",
    "# Python and NumPy Data Structures\n",
    "\n",
    "### Week 2 Lecture, MT 2020 - Chengchun Shi"
   ]
  },
  {
   "cell_type": "markdown",
   "metadata": {
    "slideshow": {
     "slide_type": "slide"
    }
   },
   "source": [
    "# Lecture Overview\n",
    "\n",
    "0. Python file operations \n",
    "\n",
    "1. Application Dependencies\n",
    "\n",
    "2. Python Data Types\n",
    "\n",
    "3. The NumPy ndarray\n",
    "\n",
    "4. datetime module"
   ]
  },
  {
   "cell_type": "markdown",
   "metadata": {
    "slideshow": {
     "slide_type": "slide"
    }
   },
   "source": [
    "# Python File Operations\n",
    "\n",
    "Basic Python offers methods of reading (and writing!) files which are simple and effective. More flexible methods are offered within NumPy and Pandas but here is how to read a text file with Python:\n"
   ]
  },
  {
   "cell_type": "code",
   "execution_count": 1,
   "metadata": {
    "scrolled": true,
    "slideshow": {
     "slide_type": "fragment"
    }
   },
   "outputs": [
    {
     "name": "stdout",
     "output_type": "stream",
     "text": [
      "Harry Potter and the Sorcerer's Stone \n",
      "\n",
      "\n",
      "\n",
      "CHAPTER ONE \n",
      "\n"
     ]
    }
   ],
   "source": [
    "myfile=open('Harry Potter and the Sorcerer.txt','r', encoding=\"ISO-8859-1\")\n",
    "firstline=myfile.readline()\n",
    "secondline=myfile.readline()\n",
    "thirdline=myfile.readline()\n",
    "print(firstline)\n",
    "print(secondline)\n",
    "print(thirdline)\n",
    "# print(myfile.read())\n",
    "myfile.close()"
   ]
  },
  {
   "cell_type": "markdown",
   "metadata": {
    "slideshow": {
     "slide_type": "fragment"
    }
   },
   "source": [
    "* The second argument _r_ indicates that the file is opened for _read_ access. _w_ indicated write access, _a_ for appending.\n",
    "* Use _r_+, _w_+ or _a_+ for both reading and writing.\n",
    "* _w+_ and _a+_ will create a file if it does not exist."
   ]
  },
  {
   "cell_type": "markdown",
   "metadata": {
    "slideshow": {
     "slide_type": "slide"
    }
   },
   "source": [
    "It's good practice to close a file, but it is not strictly necessary. Not closing a file might\n",
    "\n",
    "* slow down your program\n",
    "\n",
    "* many changes do not go into effect until the file is being closed\n",
    "\n",
    "* run in to limits of how many files have been opened (theoretically)"
   ]
  },
  {
   "cell_type": "code",
   "execution_count": 2,
   "metadata": {
    "slideshow": {
     "slide_type": "fragment"
    }
   },
   "outputs": [],
   "source": [
    "myfile=open('simultion.py', 'w')\n",
    "myfile.write('print(\\'hello world\\')')\n",
    "myfile.write('\\n')\n",
    "myfile.write('temperatue = 98.6')\n",
    "myfile.close()"
   ]
  },
  {
   "cell_type": "markdown",
   "metadata": {
    "slideshow": {
     "slide_type": "slide"
    }
   },
   "source": [
    "![Dependancies](figs/ST445Overview.png \"Dependancies\")"
   ]
  },
  {
   "cell_type": "markdown",
   "metadata": {
    "slideshow": {
     "slide_type": "slide"
    }
   },
   "source": [
    "# Dependencies\n",
    "\n",
    "* Dependencies are the modules that you need to create and run your code\n",
    "\n",
    "\n",
    "* This can include modules written by yourself\n",
    "\n",
    "\n",
    "* Installed separately from system-level packages such as _math_\n",
    "\n",
    "#### To install a module with Anaconda you need to use  _conda_ commands. For example:\n",
    "\n",
    "\\> conda install Quandl\n",
    "\n",
    "#### Sometimes a package is not available as a _conda_ pacakge but can be installed by _PyPI_\n",
    "\n",
    "\\> pip install Quandl\n",
    "\n",
    "\n",
    "#### To find out more about conda please consult https://docs.conda.io/projects/conda/en/latest/user-guide/getting-started.html\n",
    "#### There's a handy cheat-sheet if you want to learn, for example, about updating packages."
   ]
  },
  {
   "cell_type": "markdown",
   "metadata": {
    "slideshow": {
     "slide_type": "slide"
    }
   },
   "source": [
    "# Using Dependencies\n",
    "\n",
    "The basic syntax is, _import module_\n",
    "\n",
    "For example, using the alias np for numpy:"
   ]
  },
  {
   "cell_type": "code",
   "execution_count": 3,
   "metadata": {
    "slideshow": {
     "slide_type": "fragment"
    }
   },
   "outputs": [
    {
     "name": "stdout",
     "output_type": "stream",
     "text": [
      "3.141592653589793\n"
     ]
    }
   ],
   "source": [
    "import numpy as np\n",
    "print(np.pi)"
   ]
  },
  {
   "cell_type": "markdown",
   "metadata": {
    "slideshow": {
     "slide_type": "slide"
    }
   },
   "source": [
    "# System Modules\n",
    "\n",
    "#### Four system (built into Python) modules that are good to know about: \n",
    "\n",
    "1. math\n",
    "\n",
    "2. random\n",
    "\n",
    "3. os\n",
    "\n",
    "4. sys"
   ]
  },
  {
   "cell_type": "markdown",
   "metadata": {
    "slideshow": {
     "slide_type": "slide"
    }
   },
   "source": [
    "# Doing the maths\n",
    "\n",
    "In Python even to do fairly simple maths equires you to _import math_"
   ]
  },
  {
   "cell_type": "code",
   "execution_count": 4,
   "metadata": {
    "slideshow": {
     "slide_type": "fragment"
    }
   },
   "outputs": [
    {
     "name": "stdout",
     "output_type": "stream",
     "text": [
      "3.0\n"
     ]
    }
   ],
   "source": [
    "import math\n",
    "b=math.sqrt(9)\n",
    "print(b)"
   ]
  },
  {
   "cell_type": "markdown",
   "metadata": {
    "slideshow": {
     "slide_type": "slide"
    }
   },
   "source": [
    "# Doing the maths\n",
    "\n",
    "| Function|Purpose |\n",
    "| -----------|----------------|\n",
    "| ceil   | Returns the integer greater than or equal to the passed number |\n",
    "| floor | Returns the integer less than or equal to the passed number|\n",
    "| log | Returns the natural logarithm |\n",
    "| exp | Returns the constant 'e' raised to the power of the passed number |\n",
    "| sqrt | Returns the square root of the vaue passed |\n",
    "| modf | Returns the fractional _and_ integer part of a float|\n",
    "\n",
    "#### Example:"
   ]
  },
  {
   "cell_type": "code",
   "execution_count": 5,
   "metadata": {
    "slideshow": {
     "slide_type": "fragment"
    }
   },
   "outputs": [
    {
     "name": "stdout",
     "output_type": "stream",
     "text": [
      "0.9000000000000004 6.0\n"
     ]
    }
   ],
   "source": [
    "import math\n",
    "a=6.9\n",
    "b=math.modf(a)\n",
    "print(b[0],b[1])"
   ]
  },
  {
   "cell_type": "markdown",
   "metadata": {
    "slideshow": {
     "slide_type": "slide"
    }
   },
   "source": [
    "# Generating random numbers\n"
   ]
  },
  {
   "cell_type": "markdown",
   "metadata": {
    "slideshow": {
     "slide_type": "fragment"
    }
   },
   "source": [
    "An early computer-based PRNG, suggested by John von Neumann in 1946, is known as the middle-square method. The algorithm is as follows: take any number, square it, remove the middle digits of the resulting number as the \"random number\", then use that number as the seed for the next iteration. \n",
    "\n",
    "For example, squaring the number \"1111\" yields \"1234321\", which can be written as \"01234321\", an 8-digit number being the square of a 4-digit number. This gives \"2343\" as the \"random\" number. Repeating this procedure gives \"4896\" as the next result, and so on. \n",
    "\n",
    "Von Neumann used 10 digit numbers, but the process was the same."
   ]
  },
  {
   "cell_type": "markdown",
   "metadata": {
    "slideshow": {
     "slide_type": "slide"
    }
   },
   "source": [
    "#### Python has a system module _random_ for generating random numbers:\n",
    "\n",
    "| Function|Purpose |\n",
    "| -----------|----------------|\n",
    "| random()   | Returns a random number from the uniform distribution [0,1] |\n",
    "| randint(m,n) | Returns a random integer between m and n|\n",
    "| randchoice( _list_) | Returns a randomly chosen value from a list|\n",
    "\n",
    "#### Example:"
   ]
  },
  {
   "cell_type": "code",
   "execution_count": 6,
   "metadata": {
    "scrolled": true,
    "slideshow": {
     "slide_type": "fragment"
    }
   },
   "outputs": [
    {
     "name": "stdout",
     "output_type": "stream",
     "text": [
      "0.9345101013939572\n"
     ]
    }
   ],
   "source": [
    "import random\n",
    "print(random.random())"
   ]
  },
  {
   "cell_type": "markdown",
   "metadata": {
    "slideshow": {
     "slide_type": "slide"
    }
   },
   "source": [
    "# Generating random numbers\n",
    "\n",
    "#### Generating random numbers using *numpy.random*:\n",
    "\n",
    "| Function|Purpose |\n",
    "| -----------|----------------|\n",
    "| random(size)   | Draw samples of size _size_ from the uniform distribution [0,1] |\n",
    "| randn(size) | Draw samples of size _size_ from the standard normal distribution|\n",
    "|beta(a, b, size) |\tDraw samples from a Beta distribution|\n",
    "|binomial(n, p, size)|\tDraw samples from a binomial distribution|\n",
    "|chisquare(df\\[, size\\])|\tDraw samples from a chi-square distribution|\n",
    "|dirichlet(alpha\\[, size\\])|\tDraw samples from the Dirichlet distribution|\n",
    "|exponential(\\[, scale, size\\])|\tDraw samples from an exponential distribution|\n",
    "|f(dfnum, dfden\\[, size\\])|\tDraw samples from an F distribution|\n",
    "|gamma(shape\\[, scale, size\\])|\tDraw samples from a Gamma distribution|\n"
   ]
  },
  {
   "cell_type": "markdown",
   "metadata": {
    "slideshow": {
     "slide_type": "slide"
    }
   },
   "source": [
    "#### Example:"
   ]
  },
  {
   "cell_type": "code",
   "execution_count": 7,
   "metadata": {
    "slideshow": {
     "slide_type": "fragment"
    }
   },
   "outputs": [
    {
     "name": "stdout",
     "output_type": "stream",
     "text": [
      "[0.74499448 0.85158557 0.05472761 ... 0.64896817 0.16067677 0.00941994]\n"
     ]
    },
    {
     "data": {
      "image/png": "[encoded data removed]",
      "text/plain": [
       "<Figure size 432x288 with 1 Axes>"
      ]
     },
     "metadata": {
      "needs_background": "light"
     },
     "output_type": "display_data"
    }
   ],
   "source": [
    "import numpy.random as nr\n",
    "import matplotlib.pyplot as plt\n",
    "prng = nr.randn(1000000)\n",
    "print(prng)\n",
    "plt.hist(prng, bins=2000)\n",
    "plt.show()"
   ]
  },
  {
   "cell_type": "markdown",
   "metadata": {
    "slideshow": {
     "slide_type": "slide"
    }
   },
   "source": [
    "#### Another Example:"
   ]
  },
  {
   "cell_type": "code",
   "execution_count": 8,
   "metadata": {
    "scrolled": false,
    "slideshow": {
     "slide_type": "fragment"
    }
   },
   "outputs": [
    {
     "data": {
      "text/plain": [
       "(array([1., 0., 0., ..., 0., 1., 1.]),\n",
       " array([0.34015533, 0.34031759, 0.34047986, ..., 0.6643626 , 0.66452487,\n",
       "        0.66468714]),\n",
       " <a list of 2000 Patch objects>)"
      ]
     },
     "execution_count": 8,
     "metadata": {},
     "output_type": "execute_result"
    },
    {
     "data": {
      "image/png": "[encoded data removed]",
      "text/plain": [
       "<Figure size 432x288 with 1 Axes>"
      ]
     },
     "metadata": {
      "needs_background": "light"
     },
     "output_type": "display_data"
    }
   ],
   "source": [
    "import numpy.random as nr\n",
    "import matplotlib.pyplot as plt\n",
    "prng = nr.beta(100, 100, 1000000)\n",
    "plt.hist(prng, bins=2000)"
   ]
  },
  {
   "cell_type": "markdown",
   "metadata": {
    "slideshow": {
     "slide_type": "slide"
    }
   },
   "source": [
    "# Operating System module\n",
    "\n",
    "Provides essential functionality for working with files and directories\n",
    "\n",
    "\n",
    "| Method |Description |\n",
    "| -----------|----------------|\n",
    "| getcwd   | Returns the current working directory name |\n",
    "| chdir | Changes the current working directory|\n",
    "| listdir | Returns a list of all entities(either files or directories) in a given directory|\n",
    "| mkdir | Creates a new directory|\n"
   ]
  },
  {
   "cell_type": "code",
   "execution_count": 9,
   "metadata": {
    "scrolled": true,
    "slideshow": {
     "slide_type": "fragment"
    }
   },
   "outputs": [
    {
     "name": "stdout",
     "output_type": "stream",
     "text": [
      "/Users/shic6/Documents/LSE/lectures2020/Week2\n",
      "['ST445_Week2_Lecture.ipynb', 'Sentence.txt', 'ST445_wk2_class_with_solutions.ipynb', 'ST445_Week2_Lecture.pdf', 'figs', 'data.csv', 'ST445_week2_Lecture.slides.html', 'titanic.csv', 'MyArray.npy', '.ipynb_checkpoints', 'simultion.py', 'Harry Potter and the Sorcerer.txt', 'Are list comprehensions faster than a for loop.md', 'HW2.ipynb', 'ST445_wk2_class.ipynb']\n"
     ]
    }
   ],
   "source": [
    "import os\n",
    "print(os.getcwd())\n",
    "print(os.listdir())"
   ]
  },
  {
   "cell_type": "markdown",
   "metadata": {
    "slideshow": {
     "slide_type": "slide"
    }
   },
   "source": [
    "# System Module\n",
    "\n",
    "\n",
    "Can be used to obtain information about your Python system such as exceptions or the path of directiories used to import modules:"
   ]
  },
  {
   "cell_type": "code",
   "execution_count": 10,
   "metadata": {
    "scrolled": false,
    "slideshow": {
     "slide_type": "fragment"
    }
   },
   "outputs": [
    {
     "name": "stdout",
     "output_type": "stream",
     "text": [
      "['/Users/shic6/Documents/LSE/lectures2020/Week2', '/opt/anaconda3/lib/python38.zip', '/opt/anaconda3/lib/python3.8', '/opt/anaconda3/lib/python3.8/lib-dynload', '', '/opt/anaconda3/lib/python3.8/site-packages', '/opt/anaconda3/lib/python3.8/site-packages/aeosa', '/opt/anaconda3/lib/python3.8/site-packages/IPython/extensions', '/Users/shic6/.ipython']\n"
     ]
    }
   ],
   "source": [
    "import sys\n",
    "print(sys.path)"
   ]
  },
  {
   "cell_type": "code",
   "execution_count": 11,
   "metadata": {
    "scrolled": true,
    "slideshow": {
     "slide_type": "slide"
    }
   },
   "outputs": [
    {
     "name": "stdout",
     "output_type": "stream",
     "text": [
      "(<class 'ValueError'>, ValueError('math domain error'), <traceback object at 0x1151c3ec0>)\n",
      "-1.0\n"
     ]
    }
   ],
   "source": [
    "import sys\n",
    "import math\n",
    "try:\n",
    "    print(math.sqrt(-1))\n",
    "except:\n",
    "    print(sys.exc_info())\n",
    "else:\n",
    "    print(-math.sqrt(1))\n",
    "finally:\n",
    "    print(-math.sqrt(1))"
   ]
  },
  {
   "cell_type": "markdown",
   "metadata": {
    "slideshow": {
     "slide_type": "slide"
    }
   },
   "source": [
    "# Python Data Types\n",
    "\n",
    "### Python has a number of built in data types you should know about:\n",
    "\n",
    "1. Float\n",
    "\n",
    "2. int\n",
    "\n",
    "3. strings\n",
    "\n",
    "4. boolean\n",
    "\n",
    "5. Tuples\n",
    "\n",
    "6. Lists\n",
    "\n",
    "7. Dicts"
   ]
  },
  {
   "cell_type": "code",
   "execution_count": 12,
   "metadata": {
    "slideshow": {
     "slide_type": "slide"
    }
   },
   "outputs": [
    {
     "name": "stdout",
     "output_type": "stream",
     "text": [
      "<class 'float'>\n",
      "<class 'int'>\n"
     ]
    }
   ],
   "source": [
    "a=4.6\n",
    "print(type(a))\n",
    "b=10\n",
    "print(type(b))"
   ]
  },
  {
   "cell_type": "code",
   "execution_count": 13,
   "metadata": {
    "scrolled": true,
    "slideshow": {
     "slide_type": "fragment"
    }
   },
   "outputs": [
    {
     "name": "stdout",
     "output_type": "stream",
     "text": [
      "4 <class 'int'>\n",
      "<class 'float'>\n"
     ]
    }
   ],
   "source": [
    "b=int(a)\n",
    "print(b,type(b))\n",
    "print(type(float(10)))"
   ]
  },
  {
   "cell_type": "markdown",
   "metadata": {
    "slideshow": {
     "slide_type": "slide"
    }
   },
   "source": [
    "# Strings\n",
    "\n",
    "Python has excellent string (text) processing capability. I can only touch on it here:\n"
   ]
  },
  {
   "cell_type": "code",
   "execution_count": 14,
   "metadata": {
    "slideshow": {
     "slide_type": "fragment"
    }
   },
   "outputs": [
    {
     "name": "stdout",
     "output_type": "stream",
     "text": [
      "4 o\n",
      "32\n",
      "-1\n",
      "4 out of 3 people struggle with maths.\n",
      "4 OUT OF 3 PEOPLE STRUGGLE WITH MATHS.\n"
     ]
    }
   ],
   "source": [
    "phrase='4 out of 3 people struggle with maths.'\n",
    "print(phrase[0:3])\n",
    "print(phrase.find('maths'))\n",
    "print(phrase.find('english'))\n",
    "print(phrase.lower())\n",
    "print(phrase.upper())"
   ]
  },
  {
   "cell_type": "code",
   "execution_count": 15,
   "metadata": {
    "scrolled": true,
    "slideshow": {
     "slide_type": "fragment"
    }
   },
   "outputs": [
    {
     "name": "stdout",
     "output_type": "stream",
     "text": [
      "['4', 'out', 'of', '3', 'people', 'struggle', 'with', 'maths.']\n",
      "<class 'list'>\n"
     ]
    }
   ],
   "source": [
    "a=phrase.split(' ')\n",
    "print(a)\n",
    "print(type(a))"
   ]
  },
  {
   "cell_type": "markdown",
   "metadata": {
    "slideshow": {
     "slide_type": "slide"
    }
   },
   "source": [
    "# Tuples and Lists\n",
    "\n",
    "These are both arrays. Tuples are _immutable_ whilst lists are _mutable_\n"
   ]
  },
  {
   "cell_type": "code",
   "execution_count": 16,
   "metadata": {
    "scrolled": true,
    "slideshow": {
     "slide_type": "fragment"
    }
   },
   "outputs": [
    {
     "name": "stdout",
     "output_type": "stream",
     "text": [
      "1.0\n",
      "3.0\n",
      "7.0\n",
      "4\n",
      "out\n",
      "of\n",
      "3\n",
      "people\n",
      "struggle\n",
      "with\n",
      "maths.\n"
     ]
    }
   ],
   "source": [
    "numbers=[1.0,3.0,7.0]\n",
    "for x in numbers:\n",
    "    print(x)\n",
    "for x in a:\n",
    "    print(x)"
   ]
  },
  {
   "cell_type": "code",
   "execution_count": 17,
   "metadata": {
    "slideshow": {
     "slide_type": "fragment"
    }
   },
   "outputs": [
    {
     "name": "stdout",
     "output_type": "stream",
     "text": [
      "[1.0, 3.0, 7.0, 9]\n",
      "[3.0, 7.0, 9]\n",
      "[1.0, 3.0, 7.0, 9]\n"
     ]
    }
   ],
   "source": [
    "numbers.append(9)\n",
    "print(numbers)\n",
    "numbers.pop(0)\n",
    "print(numbers)\n",
    "numbers.insert(0, 1.0)\n",
    "print(numbers)"
   ]
  },
  {
   "cell_type": "code",
   "execution_count": 18,
   "metadata": {
    "slideshow": {
     "slide_type": "slide"
    }
   },
   "outputs": [
    {
     "name": "stdout",
     "output_type": "stream",
     "text": [
      "[1.0, 3.0, 7.0]\n",
      "[1.0, 3.0, 7.0]\n",
      "4648987136 4648987136\n",
      "4648987136 4648984960\n"
     ]
    }
   ],
   "source": [
    "numbers1 = numbers\n",
    "numbers1.pop()\n",
    "print(numbers1)\n",
    "print(numbers)\n",
    "print(id(numbers), id(numbers1))\n",
    "numbers1 = numbers.copy()\n",
    "print(id(numbers), id(numbers1))"
   ]
  },
  {
   "cell_type": "code",
   "execution_count": 19,
   "metadata": {},
   "outputs": [
    {
     "name": "stdout",
     "output_type": "stream",
     "text": [
      "[1.0, 3.0, 7.0]\n",
      "[3, 3.0, 7.0]\n"
     ]
    }
   ],
   "source": [
    "print(numbers)\n",
    "numbers[0] = 3\n",
    "print(numbers)"
   ]
  },
  {
   "cell_type": "markdown",
   "metadata": {
    "slideshow": {
     "slide_type": "fragment"
    }
   },
   "source": [
    "Tuples often appear as output of a method."
   ]
  },
  {
   "cell_type": "markdown",
   "metadata": {
    "slideshow": {
     "slide_type": "slide"
    }
   },
   "source": [
    "<img src=\"figs/mutable_or_not.png\" width=\"700\">"
   ]
  },
  {
   "cell_type": "code",
   "execution_count": 20,
   "metadata": {
    "slideshow": {
     "slide_type": "fragment"
    }
   },
   "outputs": [
    {
     "name": "stdout",
     "output_type": "stream",
     "text": [
      "True\n",
      "4325055104\n",
      "11\n",
      "10\n",
      "False\n",
      "4325055136\n"
     ]
    }
   ],
   "source": [
    "x = 10\n",
    "y = x\n",
    "print(x is y)\n",
    "print(id(x))\n",
    "x = x+1\n",
    "print(x)\n",
    "print(y)\n",
    "print(x is y)\n",
    "print(id(x))"
   ]
  },
  {
   "cell_type": "markdown",
   "metadata": {
    "slideshow": {
     "slide_type": "slide"
    }
   },
   "source": [
    "# Dictionaries\n",
    "\n",
    "This is a powerful and more complex data structure. It is a mapping between _keys_ and _values_. For example, these might be names and addresses. It is a single data structure with two dependent fields in it."
   ]
  },
  {
   "cell_type": "code",
   "execution_count": 21,
   "metadata": {
    "slideshow": {
     "slide_type": "fragment"
    }
   },
   "outputs": [
    {
     "name": "stdout",
     "output_type": "stream",
     "text": [
      "{'Steve': 'London', 'Andrew': 'Wales', 'Bill': 'Edinburgh'}\n",
      "{'Steve': 'London', 'Andrew': 'Wales', 'Bill': 'Edinburgh', 'Claus': 'Lemgo'}\n"
     ]
    }
   ],
   "source": [
    "Mydict={'Steve':'London','Andrew':'Wales','Bill':'Edinburgh'}   # Create a small dictionary\n",
    "print(Mydict)\n",
    "Mydict['Claus']='Lemgo'        # Add to the dictionary\n",
    "print(Mydict)"
   ]
  },
  {
   "cell_type": "code",
   "execution_count": 22,
   "metadata": {
    "scrolled": true,
    "slideshow": {
     "slide_type": "fragment"
    }
   },
   "outputs": [
    {
     "name": "stdout",
     "output_type": "stream",
     "text": [
      "Steve London\n",
      "Andrew Wales\n",
      "Bill Edinburgh\n",
      "Claus Lemgo\n"
     ]
    }
   ],
   "source": [
    "#for j in Mydict.keys():\n",
    "#    print(j)\n",
    "#for j in Mydict.values():\n",
    "#    print(j)\n",
    "for x,y in Mydict.items():\n",
    "    print(x,y)"
   ]
  },
  {
   "cell_type": "markdown",
   "metadata": {
    "slideshow": {
     "slide_type": "slide"
    }
   },
   "source": [
    "# Dictionaries (Cont'd)"
   ]
  },
  {
   "cell_type": "code",
   "execution_count": 23,
   "metadata": {
    "slideshow": {
     "slide_type": "fragment"
    }
   },
   "outputs": [
    {
     "name": "stdout",
     "output_type": "stream",
     "text": [
      "Edinburgh\n",
      "Edinburgh\n",
      "None\n"
     ]
    }
   ],
   "source": [
    "print(Mydict['Bill'])\n",
    "#print(Mydict['William'])\n",
    "print(Mydict.get('Bill'))\n",
    "print(Mydict.get('William'))"
   ]
  },
  {
   "cell_type": "markdown",
   "metadata": {
    "slideshow": {
     "slide_type": "slide"
    }
   },
   "source": [
    "# Dictionaries (Cont'd)"
   ]
  },
  {
   "cell_type": "code",
   "execution_count": 24,
   "metadata": {
    "slideshow": {
     "slide_type": "slide"
    }
   },
   "outputs": [],
   "source": [
    "myfile=open('Harry Potter and the Sorcerer.txt','r', encoding=\"ISO-8859-1\")\n",
    "dic = {}\n",
    "for line in myfile:\n",
    "    words = line.split()\n",
    "    for w in words:\n",
    "        w = w.rstrip(' ;-,.?!\"')\n",
    "        w = w.lstrip(' ;-,.?!\"')\n",
    "        w = w.lower()\n",
    "        if w in dic:\n",
    "            dic[w] = dic[w]+1\n",
    "        else:\n",
    "            dic[w] = 1\n",
    "#    print(words)\n",
    "myfile.close()\n",
    "# print(dic)\n",
    "# import operator\n",
    "# sorted_dict = sorted(dic.items(), key=operator.itemgetter(1), reverse=True)\n",
    "# print(sorted_dict)"
   ]
  },
  {
   "cell_type": "markdown",
   "metadata": {
    "slideshow": {
     "slide_type": "slide"
    }
   },
   "source": [
    "# List comprehensions\n",
    "\n",
    "A cool feature for filtering a list according to some simple logic\n",
    "\n",
    "_zip_  use this to pair up lists to create a list of tuples. \n",
    "\n",
    "\n",
    "#### \"Python for Data Analysis\" by Wes McKinney has more detail."
   ]
  },
  {
   "cell_type": "code",
   "execution_count": 25,
   "metadata": {
    "slideshow": {
     "slide_type": "fragment"
    }
   },
   "outputs": [],
   "source": [
    "## [expression for item in list if conditional]"
   ]
  },
  {
   "cell_type": "markdown",
   "metadata": {
    "slideshow": {
     "slide_type": "fragment"
    }
   },
   "source": [
    "This is equivalent to:"
   ]
  },
  {
   "cell_type": "code",
   "execution_count": 26,
   "metadata": {
    "slideshow": {
     "slide_type": "fragment"
    }
   },
   "outputs": [],
   "source": [
    "## for item in list:\n",
    "##    if conditional:\n",
    "##        expression"
   ]
  },
  {
   "cell_type": "markdown",
   "metadata": {
    "slideshow": {
     "slide_type": "slide"
    }
   },
   "source": [
    "# List comprehensions (Cont'd)"
   ]
  },
  {
   "cell_type": "code",
   "execution_count": 27,
   "metadata": {
    "slideshow": {
     "slide_type": "fragment"
    }
   },
   "outputs": [
    {
     "name": "stdout",
     "output_type": "stream",
     "text": [
      "[0, 1, 4, 9, 16, 25, 36, 49, 64, 81]\n"
     ]
    }
   ],
   "source": [
    "squares = []\n",
    "for x in range(10):\n",
    "    squares.append(x**2)\n",
    "print(squares)    "
   ]
  },
  {
   "cell_type": "code",
   "execution_count": 28,
   "metadata": {
    "slideshow": {
     "slide_type": "fragment"
    }
   },
   "outputs": [
    {
     "name": "stdout",
     "output_type": "stream",
     "text": [
      "[0, 1, 4, 9, 16, 25, 36, 49, 64, 81]\n"
     ]
    }
   ],
   "source": [
    "squares = [x**2 for x in range(10)]\n",
    "print(squares)"
   ]
  },
  {
   "cell_type": "markdown",
   "metadata": {
    "slideshow": {
     "slide_type": "slide"
    }
   },
   "source": [
    "# Are list comprehensions faster than for loops?\n",
    "\n",
    "https://stackoverflow.com/questions/22108488/are-list-comprehensions-and-functional-functions-faster-than-for-loops\n",
    "\n",
    "In general, using list comprehensions are a little bit faster than using loops."
   ]
  },
  {
   "cell_type": "code",
   "execution_count": 29,
   "metadata": {
    "slideshow": {
     "slide_type": "fragment"
    }
   },
   "outputs": [
    {
     "name": "stdout",
     "output_type": "stream",
     "text": [
      "0:00:00.403749\n",
      "0:00:00.303971\n",
      "0:00:00.002664\n"
     ]
    }
   ],
   "source": [
    "import datetime\n",
    "\n",
    "def time_it(func, numbers, *args):\n",
    "    start_t = datetime.datetime.now()\n",
    "    for i in range(numbers):\n",
    "        func(args[0])\n",
    "    print (datetime.datetime.now()-start_t)\n",
    "\n",
    "def square_list1(numbers):\n",
    "    a = []\n",
    "    for i in numbers:\n",
    "        a.append(i**2)\n",
    "    return a\n",
    "\n",
    "def square_list2(numbers):\n",
    "    return [i**2 for i in numbers]\n",
    "\n",
    "def square_list3(numbers):\n",
    "    a = map(lambda x: x**2, numbers)\n",
    "    return a\n",
    "\n",
    "time_it(square_list1, 10000, range(100))\n",
    "time_it(square_list2, 10000, range(100))\n",
    "time_it(square_list3, 10000, range(100))"
   ]
  },
  {
   "cell_type": "markdown",
   "metadata": {
    "slideshow": {
     "slide_type": "slide"
    }
   },
   "source": [
    "# NumPy\n",
    "\n",
    "1. NumPy is the key package for numerical computing in Python.\n",
    "\n",
    "2. It allows you to perform operations on whole blocks of data without writing loops.\n",
    "\n",
    "3. It includes powerful basic mathematical routines such as matrix diagonalisation and inversion.\n",
    "\n",
    "4. You can read and write numerical values direct to disk with NumPy.\n",
    "\n",
    "5. The fast numerical processing it permits makes it the basis of most visualisation modules.\n",
    "\n",
    "6. More sophisticated scientific and machine learning modules are built using NumPy.\n"
   ]
  },
  {
   "cell_type": "markdown",
   "metadata": {
    "slideshow": {
     "slide_type": "slide"
    }
   },
   "source": [
    "# Simple Example of NumPy\n",
    "\n",
    "In the example below np.sqrt is a _vectorised_ calculation on a NumPy array set up using _arange_"
   ]
  },
  {
   "cell_type": "code",
   "execution_count": 30,
   "metadata": {
    "slideshow": {
     "slide_type": "fragment"
    }
   },
   "outputs": [
    {
     "name": "stdout",
     "output_type": "stream",
     "text": [
      "[0 1 2 3 4 5 6 7 8 9]\n",
      "<class 'numpy.ndarray'>\n",
      "[0.         1.         1.41421356 1.73205081 2.         2.23606798\n",
      " 2.44948974 2.64575131 2.82842712 3.        ]\n"
     ]
    }
   ],
   "source": [
    "import numpy as np\n",
    "rng=np.arange(10)\n",
    "print(rng)\n",
    "print(type(rng))\n",
    "print(np.sqrt(rng))"
   ]
  },
  {
   "cell_type": "markdown",
   "metadata": {
    "slideshow": {
     "slide_type": "slide"
    }
   },
   "source": [
    "# Defining a NumPy ndarray by hand\n",
    "\n"
   ]
  },
  {
   "cell_type": "code",
   "execution_count": 31,
   "metadata": {
    "slideshow": {
     "slide_type": "fragment"
    }
   },
   "outputs": [
    {
     "name": "stdout",
     "output_type": "stream",
     "text": [
      "(2, 3)\n",
      "[[ 1.  2.  4.]\n",
      " [-1.  2. -5.]]\n"
     ]
    }
   ],
   "source": [
    "import numpy as np\n",
    "a=np.array([[1.0,2.0,4.0],[-1.0,2.0,-5.0]])\n",
    "print(a.shape)\n",
    "print(a)"
   ]
  },
  {
   "cell_type": "code",
   "execution_count": 32,
   "metadata": {
    "slideshow": {
     "slide_type": "fragment"
    }
   },
   "outputs": [
    {
     "name": "stdout",
     "output_type": "stream",
     "text": [
      "(3, 2)\n",
      "[[ 1. -1.]\n",
      " [ 2.  2.]\n",
      " [ 4. -5.]]\n"
     ]
    }
   ],
   "source": [
    "b=np.transpose(a)\n",
    "print(b.shape)\n",
    "print(b)"
   ]
  },
  {
   "cell_type": "markdown",
   "metadata": {
    "slideshow": {
     "slide_type": "slide"
    }
   },
   "source": [
    "# NumPy ndarray methods\n",
    "\n",
    "NumPy provides some handy methods to summarise the data. More generally though it is better to do this using Pandas."
   ]
  },
  {
   "cell_type": "code",
   "execution_count": 33,
   "metadata": {
    "slideshow": {
     "slide_type": "fragment"
    }
   },
   "outputs": [
    {
     "name": "stdout",
     "output_type": "stream",
     "text": [
      "[ 0.  4. -1.]\n"
     ]
    }
   ],
   "source": [
    "print(a.sum(axis=0))"
   ]
  },
  {
   "cell_type": "code",
   "execution_count": 34,
   "metadata": {
    "slideshow": {
     "slide_type": "fragment"
    }
   },
   "outputs": [
    {
     "name": "stdout",
     "output_type": "stream",
     "text": [
      "[ 7. -4.]\n",
      "<class 'numpy.ndarray'>\n"
     ]
    }
   ],
   "source": [
    "print(a.sum(axis=1))\n",
    "print(type(a.sum(axis=1)))"
   ]
  },
  {
   "cell_type": "code",
   "execution_count": 35,
   "metadata": {
    "slideshow": {
     "slide_type": "fragment"
    }
   },
   "outputs": [
    {
     "name": "stdout",
     "output_type": "stream",
     "text": [
      "3.0\n"
     ]
    }
   ],
   "source": [
    "print(a.sum())"
   ]
  },
  {
   "cell_type": "markdown",
   "metadata": {
    "slideshow": {
     "slide_type": "slide"
    }
   },
   "source": [
    "# NumPy ndarray methods\n",
    "\n",
    "NumPy can be used for matrix calculations:"
   ]
  },
  {
   "cell_type": "code",
   "execution_count": 36,
   "metadata": {
    "slideshow": {
     "slide_type": "fragment"
    }
   },
   "outputs": [
    {
     "name": "stdout",
     "output_type": "stream",
     "text": [
      "[[ 21. -17.]\n",
      " [-17.  30.]]\n"
     ]
    }
   ],
   "source": [
    "c=np.dot(a,b)\n",
    "print(c)"
   ]
  },
  {
   "cell_type": "markdown",
   "metadata": {
    "slideshow": {
     "slide_type": "slide"
    }
   },
   "source": [
    "# NumPy Slicing\n",
    "\n",
    "NumPy has a great way for selecting a subset of your dataset. The diagram below should help to explain:\n",
    "\n",
    "![Slicing](figs/Slicing.jpg \"Slicing\")\n"
   ]
  },
  {
   "cell_type": "code",
   "execution_count": 37,
   "metadata": {
    "slideshow": {
     "slide_type": "fragment"
    }
   },
   "outputs": [
    {
     "name": "stdout",
     "output_type": "stream",
     "text": [
      "[[1 2 3]\n",
      " [4 5 6]\n",
      " [7 8 9]]\n",
      "[[2 3]\n",
      " [5 6]]\n"
     ]
    }
   ],
   "source": [
    "A=np.array([[1,2,3],[4,5,6],[7,8,9]])\n",
    "print(A)\n",
    "print(A[0:2,1:3])"
   ]
  },
  {
   "cell_type": "markdown",
   "metadata": {
    "slideshow": {
     "slide_type": "slide"
    }
   },
   "source": [
    "# Boolean Indexing\n",
    "\n",
    "You can set values in a NumPy array with simple boolean expressions:"
   ]
  },
  {
   "cell_type": "code",
   "execution_count": 38,
   "metadata": {
    "slideshow": {
     "slide_type": "fragment"
    }
   },
   "outputs": [
    {
     "name": "stdout",
     "output_type": "stream",
     "text": [
      "[[ 1.02920931  0.16115978 -0.67492511]\n",
      " [ 0.05473878 -2.28838726  0.75880954]\n",
      " [ 1.07412868 -1.23135461 -0.74953353]]\n"
     ]
    }
   ],
   "source": [
    "import numpy.random as nr\n",
    "arr=nr.randn(3,3)\n",
    "print(arr)"
   ]
  },
  {
   "cell_type": "code",
   "execution_count": 39,
   "metadata": {
    "slideshow": {
     "slide_type": "fragment"
    }
   },
   "outputs": [
    {
     "name": "stdout",
     "output_type": "stream",
     "text": [
      "[[1.02920931 0.16115978 0.        ]\n",
      " [0.05473878 0.         0.75880954]\n",
      " [1.07412868 0.         0.        ]]\n",
      "0\n",
      "2\n"
     ]
    }
   ],
   "source": [
    "import numpy as np\n",
    "#print([arr<0])\n",
    "#print(arr[arr<0])\n",
    "arr[arr<0]=0\n",
    "print(arr)\n",
    "print(np.sum((arr<0)&(arr>1)))\n",
    "print(np.sum((arr<0)|(arr>1)))"
   ]
  },
  {
   "cell_type": "markdown",
   "metadata": {
    "slideshow": {
     "slide_type": "slide"
    }
   },
   "source": [
    "# File Input and Output with ndarrays\n",
    "\n",
    "You can save Numpy arrays directly to disk if you wish:"
   ]
  },
  {
   "cell_type": "code",
   "execution_count": 40,
   "metadata": {
    "scrolled": true,
    "slideshow": {
     "slide_type": "fragment"
    }
   },
   "outputs": [
    {
     "name": "stdout",
     "output_type": "stream",
     "text": [
      "[[-0.23788697  0.41199504  1.00293165 ...  0.77832032  0.27177018\n",
      "  -0.3625362 ]\n",
      " [ 1.12465778  0.14443398  2.13761657 ... -2.19041312 -0.02529479\n",
      "  -0.32256132]\n",
      " [-0.77548241  0.40138334  0.54533971 ... -0.42154092  0.55156245\n",
      "   0.58869207]\n",
      " ...\n",
      " [ 1.7165504  -0.38128825 -0.30680085 ...  0.46689941 -0.73511793\n",
      "  -0.2161228 ]\n",
      " [-0.16032632 -1.33789571 -2.03125454 ...  1.90045712  0.33572257\n",
      "   0.70759576]\n",
      " [-1.30613173  0.84058191  0.7322343  ...  1.03072482 -0.37060139\n",
      "   0.36510951]]\n"
     ]
    }
   ],
   "source": [
    "import numpy.random as nr\n",
    "arr=nr.randn(1000,1000)\n",
    "np.save('MyArray',arr)\n",
    "Array=np.load('MyArray.npy')\n",
    "print(Array)"
   ]
  },
  {
   "cell_type": "markdown",
   "metadata": {
    "slideshow": {
     "slide_type": "fragment"
    }
   },
   "source": [
    "This kind of output can be convenient sometime but it's more common to do file Input and Outut using Pandas."
   ]
  },
  {
   "cell_type": "markdown",
   "metadata": {
    "slideshow": {
     "slide_type": "slide"
    }
   },
   "source": [
    "# Linear Algebra\n",
    "\n",
    "Although most of Python's mathematical capabilities are contained in specialist modules such as SciPy, Statsmodels and scikit-learn NumPy itself has some very useful methods. They are implemented using fast industry standard libraries so don't underestimate them.\n",
    "\n",
    "1. Matrix inversion\n",
    "\n",
    "2. Least squares\n",
    "\n",
    "3. Matrix diagonalisation\n",
    "\n",
    "4. Eigenvalue decomposition"
   ]
  },
  {
   "cell_type": "markdown",
   "metadata": {
    "slideshow": {
     "slide_type": "slide"
    }
   },
   "source": [
    "# Visualising an array   \n",
    "#### (Thanks to Wes McKinney for the code)"
   ]
  },
  {
   "cell_type": "code",
   "execution_count": 41,
   "metadata": {
    "scrolled": true,
    "slideshow": {
     "slide_type": "fragment"
    }
   },
   "outputs": [
    {
     "name": "stdout",
     "output_type": "stream",
     "text": [
      "1000000\n"
     ]
    },
    {
     "data": {
      "image/png": "[encoded data removed]",
      "text/plain": [
       "<Figure size 432x288 with 2 Axes>"
      ]
     },
     "metadata": {
      "needs_background": "light"
     },
     "output_type": "display_data"
    }
   ],
   "source": [
    "import matplotlib.pyplot as plt\n",
    "import numpy as np\n",
    "points=np.arange(-5,5,0.01)\n",
    "#print(points)\n",
    "xs,ys=np.meshgrid(points,points)\n",
    "##print(np.meshgrid(points,points))\n",
    "z=np.sqrt(xs**2+ys**2)\n",
    "print(np.size(z))\n",
    "plt.imshow(z,cmap=\"hot\");plt.colorbar()\n",
    "plt.title(\"Image of $\\sqrt{x^2+y^2}$ for a grid of values\");plt.show()"
   ]
  },
  {
   "cell_type": "markdown",
   "metadata": {
    "slideshow": {
     "slide_type": "slide"
    }
   },
   "source": [
    "# Dates and Time\n",
    "\n",
    "Date and time can be a confusing subject. Python has a _datetime_ module that provides a lot of functionality and datetime objects. NumPy has its own class called datetime64. \n",
    "\n",
    "Dates can often be imported as strings and may need to be converted to a datetime object if you want to exploit methods associated with these objects such as month or timedelta. "
   ]
  },
  {
   "cell_type": "code",
   "execution_count": 42,
   "metadata": {
    "slideshow": {
     "slide_type": "fragment"
    }
   },
   "outputs": [
    {
     "name": "stdout",
     "output_type": "stream",
     "text": [
      "2020-10-03 17:20:28.633121\n",
      "10\n",
      "2020-10-03\n"
     ]
    }
   ],
   "source": [
    "import datetime as dt\n",
    "import numpy as np\n",
    "n=dt.datetime.now()         # the current date and time\n",
    "print(n)\n",
    "print(n.month)              # extracts the month from the datetime object\n",
    "nd=dt.datetime.date(n)      # removes the time information from te datetime object\n",
    "print(nd)"
   ]
  },
  {
   "cell_type": "markdown",
   "metadata": {
    "slideshow": {
     "slide_type": "slide"
    }
   },
   "source": [
    "# Dates and Time\n",
    "\n",
    "1. You can convert datetime objects to strings and apply a format. For example 'Y' indicates a four digit year whilst 'y' indicates a two digit year.  \n",
    "\n",
    "2. You can also take a date as a string (for example imported data) and convert to a dateime object using strptime\n",
    "\n"
   ]
  },
  {
   "cell_type": "code",
   "execution_count": 43,
   "metadata": {
    "slideshow": {
     "slide_type": "fragment"
    }
   },
   "outputs": [
    {
     "name": "stdout",
     "output_type": "stream",
     "text": [
      "2020-10-03\n",
      "<class 'str'>\n"
     ]
    }
   ],
   "source": [
    "ds=n.strftime('%Y-%m-%d')\n",
    "print(ds)\n",
    "print(type(ds))"
   ]
  },
  {
   "cell_type": "code",
   "execution_count": 44,
   "metadata": {
    "slideshow": {
     "slide_type": "fragment"
    }
   },
   "outputs": [
    {
     "name": "stdout",
     "output_type": "stream",
     "text": [
      "<class 'str'>\n",
      "<class 'datetime.datetime'>\n"
     ]
    }
   ],
   "source": [
    "b='10/6/2018'\n",
    "print(type(b))\n",
    "bd=dt.datetime.strptime(b,'%d/%m/%Y')\n",
    "print(type(bd))"
   ]
  },
  {
   "cell_type": "markdown",
   "metadata": {
    "slideshow": {
     "slide_type": "slide"
    }
   },
   "source": [
    "<img src=\"figs/Dateformatorder.png\" width=\"700\">"
   ]
  },
  {
   "cell_type": "markdown",
   "metadata": {
    "slideshow": {
     "slide_type": "slide"
    }
   },
   "source": [
    "# Coming soon...\n",
    "\n",
    "\n",
    "#### Lab with exercises on flow control in Python\n",
    "\n",
    "#### Lecture next week on Pandas covering heterogeneous data structures, csv file import and basic charting."
   ]
  }
 ],
 "metadata": {
  "celltoolbar": "Slideshow",
  "kernelspec": {
   "display_name": "Python 3",
   "language": "python",
   "name": "python3"
  },
  "language_info": {
   "codemirror_mode": {
    "name": "ipython",
    "version": 3
   },
   "file_extension": ".py",
   "mimetype": "text/x-python",
   "name": "python",
   "nbconvert_exporter": "python",
   "pygments_lexer": "ipython3",
   "version": "3.8.3"
  }
 },
 "nbformat": 4,
 "nbformat_minor": 2
}
