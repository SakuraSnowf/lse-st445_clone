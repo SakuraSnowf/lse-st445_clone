{
 "cells": [
  {
   "cell_type": "markdown",
   "metadata": {
    "slideshow": {
     "slide_type": "slide"
    }
   },
   "source": [
    "### ST445 Managing and Visualizing Data\n",
    "# Control flow in python\n",
    "### Week 2 Lab, MT 2020"
   ]
  },
  {
   "cell_type": "markdown",
   "metadata": {
    "slideshow": {
     "slide_type": "fragment"
    }
   },
   "source": [
    "#### If you're a confident python user, please start working on the assignment."
   ]
  },
  {
   "cell_type": "markdown",
   "metadata": {
    "slideshow": {
     "slide_type": "slide"
    }
   },
   "source": [
    "## Indentation is important.\n",
    "* Indentations are python's scoping mechanism.\n",
    "* Python forces you to structure your code (i.e. avoids spaghetti code)"
   ]
  },
  {
   "cell_type": "code",
   "execution_count": 2,
   "metadata": {
    "slideshow": {
     "slide_type": "subslide"
    }
   },
   "outputs": [
    {
     "ename": "IndentationError",
     "evalue": "expected an indented block (<ipython-input-2-201033d0f311>, line 4)",
     "output_type": "error",
     "traceback": [
      "\u001b[1;36m  File \u001b[1;32m\"<ipython-input-2-201033d0f311>\"\u001b[1;36m, line \u001b[1;32m4\u001b[0m\n\u001b[1;33m    print('this yields an indentation error!')\u001b[0m\n\u001b[1;37m        ^\u001b[0m\n\u001b[1;31mIndentationError\u001b[0m\u001b[1;31m:\u001b[0m expected an indented block\n"
     ]
    }
   ],
   "source": [
    "if True:\n",
    "    print('true')\n",
    "if False:\n",
    "print('this yields an indentation error!')"
   ]
  },
  {
   "cell_type": "markdown",
   "metadata": {
    "slideshow": {
     "slide_type": "slide"
    }
   },
   "source": [
    "## ``if, elif, else``\n",
    "* check _condition_, evaluate block of code\n",
    "* _condition_ means _Boolean_\n",
    "* _elif_ and _else_ are optional"
   ]
  },
  {
   "cell_type": "code",
   "execution_count": 2,
   "metadata": {
    "slideshow": {
     "slide_type": "subslide"
    }
   },
   "outputs": [
    {
     "name": "stdout",
     "output_type": "stream",
     "text": [
      "16\n"
     ]
    }
   ],
   "source": [
    "x = 4\n",
    "if x < 2:\n",
    "    x = x+1\n",
    "    print(x)\n",
    "elif x > 5:\n",
    "    x = x*2\n",
    "    print(x)\n",
    "elif 'foo'=='bar':\n",
    "    print(x+42)\n",
    "else:\n",
    "    print(x**2)"
   ]
  },
  {
   "cell_type": "markdown",
   "metadata": {
    "slideshow": {
     "slide_type": "slide"
    }
   },
   "source": [
    "# ternary expressions\n",
    "* convenient and clear syntax for assignments with short ``if-then-else`` statements "
   ]
  },
  {
   "cell_type": "code",
   "execution_count": 2,
   "metadata": {
    "slideshow": {
     "slide_type": "fragment"
    }
   },
   "outputs": [
    {
     "name": "stdout",
     "output_type": "stream",
     "text": [
      "22\n"
     ]
    }
   ],
   "source": [
    "x = 22\n",
    "y = x if x/2 > 4 else \"cat\"\n",
    "print(y)"
   ]
  },
  {
   "cell_type": "markdown",
   "metadata": {
    "slideshow": {
     "slide_type": "slide"
    }
   },
   "source": [
    "## What is ``True/False`` in python?"
   ]
  },
  {
   "cell_type": "code",
   "execution_count": 36,
   "metadata": {
    "slideshow": {
     "slide_type": "subslide"
    }
   },
   "outputs": [
    {
     "name": "stdout",
     "output_type": "stream",
     "text": [
      "a) True\n",
      "b) False\n",
      "c) True\n",
      "d) False\n",
      "e) True\n"
     ]
    }
   ],
   "source": [
    "print('a)', 4 == 4.)\n",
    "print('b)', 4 < 4.0000000000000000001)\n",
    "print('c)', [1,2,3] == [1,2,3])\n",
    "print('d)', 'foo' == 'bar')\n",
    "print('e)', 'foo' > 'bar')"
   ]
  },
  {
   "cell_type": "markdown",
   "metadata": {
    "slideshow": {
     "slide_type": "slide"
    }
   },
   "source": [
    "## What is ``True/False`` in python? – lists"
   ]
  },
  {
   "cell_type": "code",
   "execution_count": 45,
   "metadata": {
    "slideshow": {
     "slide_type": "subslide"
    }
   },
   "outputs": [
    {
     "name": "stdout",
     "output_type": "stream",
     "text": [
      "False\n",
      "True\n",
      "False\n"
     ]
    }
   ],
   "source": [
    "if []:\n",
    "    print(\"True\")\n",
    "else:\n",
    "    print(\"False\")\n",
    "    \n",
    "if [\"cat\"]:\n",
    "    print(\"True\")\n",
    "else:\n",
    "    print(\"False\")\n",
    "    \n",
    "print(bool([]))"
   ]
  },
  {
   "cell_type": "markdown",
   "metadata": {
    "slideshow": {
     "slide_type": "slide"
    }
   },
   "source": [
    "# ``for`` loops\n",
    "* in python, ``for`` loops are associated with _iterables_\n",
    "* ``for`` loops iterate over a collection\n",
    "* different to other languages \n",
    "[C++ ``for(int i = 0; i<43; ++i){do stuff;}``]\n",
    "\n",
    "* use ``continue`` or ``break`` for skipping parts or to exit the loop "
   ]
  },
  {
   "cell_type": "code",
   "execution_count": 48,
   "metadata": {
    "slideshow": {
     "slide_type": "subslide"
    }
   },
   "outputs": [
    {
     "name": "stdout",
     "output_type": "stream",
     "text": [
      "cat\n",
      "dog\n",
      "42\n",
      "towel\n",
      "1e-12\n",
      "\n",
      "More useful:\n",
      "0\n",
      "1\n",
      "2\n",
      "3\n"
     ]
    }
   ],
   "source": [
    "myList = ['cat','dog',42,'towel',1.e-12]\n",
    "for x in myList:\n",
    "    print(x)\n",
    "\n",
    "print('\\nMore useful:')\n",
    "for n in range(4):\n",
    "    print(n)"
   ]
  },
  {
   "cell_type": "code",
   "execution_count": 169,
   "metadata": {
    "slideshow": {
     "slide_type": "subslide"
    }
   },
   "outputs": [
    {
     "name": "stdout",
     "output_type": "stream",
     "text": [
      " eats cat eats dog eats towel\n"
     ]
    }
   ],
   "source": [
    "myList = ['cat','dog',42,'towel',None,1.e-12,'apple']\n",
    "\n",
    "newString = ''\n",
    "for x in myList:\n",
    "    if x is None:\n",
    "        break\n",
    "    if not isinstance(x,str):\n",
    "        continue\n",
    "    newString = newString+\" eats \"+x\n",
    "print(newString)"
   ]
  },
  {
   "cell_type": "markdown",
   "metadata": {
    "slideshow": {
     "slide_type": "slide"
    }
   },
   "source": [
    "# ``while`` loops\n",
    "* do something, as long as a condition holds"
   ]
  },
  {
   "cell_type": "code",
   "execution_count": 55,
   "metadata": {
    "slideshow": {
     "slide_type": "subslide"
    }
   },
   "outputs": [
    {
     "name": "stdout",
     "output_type": "stream",
     "text": [
      "0.25\n",
      "0.5\n",
      "0.75\n",
      "1.0\n",
      "2.25\n",
      "2.5\n",
      "2.75\n",
      "3.0\n"
     ]
    }
   ],
   "source": [
    "x = 0\n",
    "while(x<3):\n",
    "    if int(x) == x:\n",
    "        x *= 2\n",
    "    x += .25\n",
    "    print(x)\n",
    "    "
   ]
  },
  {
   "cell_type": "markdown",
   "metadata": {
    "slideshow": {
     "slide_type": "slide"
    }
   },
   "source": [
    "# ``enumerate``\n",
    "* convenient for iterating over array while counting"
   ]
  },
  {
   "cell_type": "code",
   "execution_count": 162,
   "metadata": {
    "slideshow": {
     "slide_type": "subslide"
    }
   },
   "outputs": [
    {
     "name": "stdout",
     "output_type": "stream",
     "text": [
      "0 : cat\n",
      "1 : dog\n",
      "2 : apple\n",
      "3 : 42\n",
      "{'cat': 0, 'dog': 1, 'apple': 2, 42: 3}\n"
     ]
    }
   ],
   "source": [
    "mydict = {}\n",
    "for (n,x) in enumerate(['cat','dog','apple',42]):\n",
    "    print(n,':',x)\n",
    "    mydict[x] = n\n",
    "print(mydict)"
   ]
  },
  {
   "cell_type": "markdown",
   "metadata": {
    "slideshow": {
     "slide_type": "slide"
    }
   },
   "source": [
    "# zip\n",
    "* a convenient way to pair up lists"
   ]
  },
  {
   "cell_type": "code",
   "execution_count": 83,
   "metadata": {
    "slideshow": {
     "slide_type": "subslide"
    }
   },
   "outputs": [
    {
     "name": "stdout",
     "output_type": "stream",
     "text": [
      "['cat', 'dog', 'apple', 42]\n",
      "[0, 1, 2, 3]\n",
      "<zip object at 0x0000024B57846548>\n",
      "[('cat', 0), ('dog', 1), ('apple', 2), (42, 3)]\n",
      "\n",
      "Complicated example:\n",
      "[(('cat', 0), 'cat'), (('dog', 1), 'dog'), (('apple', 2), 'apple'), ((42, 3), 42)]\n"
     ]
    }
   ],
   "source": [
    "aList = ['cat','dog','apple',42];\n",
    "print(aList)\n",
    "\n",
    "bList = list(range(4))\n",
    "print(bList)\n",
    "\n",
    "c = zip(aList,bList)\n",
    "print(c)\n",
    "c = list(c)\n",
    "print(c)\n",
    "\n",
    "print('\\nComplicated example:')\n",
    "print(list(zip(c,aList)))"
   ]
  },
  {
   "cell_type": "markdown",
   "metadata": {
    "slideshow": {
     "slide_type": "slide"
    }
   },
   "source": [
    "# list comprehensions\n",
    "* useful concept to manipulate lists\n",
    "* aligned with mathematical intuition\n",
    "* concise, yet readable\n",
    "* reasonably fast"
   ]
  },
  {
   "cell_type": "code",
   "execution_count": 164,
   "metadata": {
    "slideshow": {
     "slide_type": "subslide"
    }
   },
   "outputs": [
    {
     "name": "stdout",
     "output_type": "stream",
     "text": [
      "[1, 45, 3.14, 15, 1.0, 2.0, 3, 4, 5, 6, 6, 7]\n",
      "[45, 15, 5, 6, 6, 7]\n",
      "[10.8596, 2.0, 5.0]\n"
     ]
    }
   ],
   "source": [
    "myList = [1,45,3.14,15,1.,2.,3,4,5,6,6,7]\n",
    "print(myList)\n",
    "\n",
    "newList = [i for i in myList if i >= 5]\n",
    "print(newList)\n",
    "\n",
    "mathList = [x**2+1. for x in myList if isinstance(x, float)]\n",
    "print(mathList)"
   ]
  },
  {
   "cell_type": "markdown",
   "metadata": {
    "slideshow": {
     "slide_type": "slide"
    }
   },
   "source": [
    "# dict comprehensions\n",
    "* natural extension of list comprehension"
   ]
  },
  {
   "cell_type": "code",
   "execution_count": 4,
   "metadata": {
    "slideshow": {
     "slide_type": "subslide"
    }
   },
   "outputs": [
    {
     "name": "stdout",
     "output_type": "stream",
     "text": [
      "{0: 'number 0', 2: 'number 2', 4: 'number 4', 3: 'number 3', 1: 'number 1'}\n"
     ]
    }
   ],
   "source": [
    "from numpy.random import randint\n",
    "A = randint(-10,11,100)\n",
    "myNewDict = {x: (\"Number \"+str(x)).lower() for x in A if (-1 < x < 5)}\n",
    "print(myNewDict)"
   ]
  },
  {
   "cell_type": "markdown",
   "metadata": {
    "slideshow": {
     "slide_type": "slide"
    }
   },
   "source": [
    "## Exercise\n",
    "\n",
    "Use Python to output all prime numnbers from 1 to 100"
   ]
  },
  {
   "cell_type": "code",
   "execution_count": 43,
   "metadata": {
    "slideshow": {
     "slide_type": "fragment"
    }
   },
   "outputs": [],
   "source": [
    "# your code here\n",
    "# hint: use a % b == 0 to determine whether a mod b==0.  \n",
    "# hint: range(a,b+1) returns a vector with elements from a to b"
   ]
  },
  {
   "cell_type": "markdown",
   "metadata": {
    "slideshow": {
     "slide_type": "slide"
    }
   },
   "source": [
    "## Exercise\n",
    "\n",
    "Use a ``for`` loop in Python to output the following:\n",
    "\n",
    "```\n",
    "  *\n",
    " ***\n",
    "*****\n",
    " ***\n",
    "  *\n",
    "```"
   ]
  },
  {
   "cell_type": "code",
   "execution_count": 76,
   "metadata": {
    "slideshow": {
     "slide_type": "fragment"
    }
   },
   "outputs": [],
   "source": [
    "# your code here\n",
    "# hint: use ' ' to produce an empty space , use the end argument in the print function"
   ]
  }
 ],
 "metadata": {
  "celltoolbar": "Slideshow",
  "kernelspec": {
   "display_name": "Python 3",
   "language": "python",
   "name": "python3"
  },
  "language_info": {
   "codemirror_mode": {
    "name": "ipython",
    "version": 3
   },
   "file_extension": ".py",
   "mimetype": "text/x-python",
   "name": "python",
   "nbconvert_exporter": "python",
   "pygments_lexer": "ipython3",
   "version": "3.8.3"
  }
 },
 "nbformat": 4,
 "nbformat_minor": 2
}
